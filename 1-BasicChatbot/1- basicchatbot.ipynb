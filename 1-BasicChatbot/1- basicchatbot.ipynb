{
 "cells": [
  {
   "cell_type": "markdown",
   "metadata": {},
   "source": [
    "build a basic chatbot (graph api functionality)"
   ]
  },
  {
   "cell_type": "code",
   "execution_count": 1,
   "metadata": {},
   "outputs": [
    {
     "name": "stderr",
     "output_type": "stream",
     "text": [
      "/Users/lakshmianand/Desktop/CHATBOT-AI-AGENT/.venv/lib/python3.9/site-packages/urllib3/__init__.py:35: NotOpenSSLWarning: urllib3 v2 only supports OpenSSL 1.1.1+, currently the 'ssl' module is compiled with 'LibreSSL 2.8.3'. See: https://github.com/urllib3/urllib3/issues/3020\n",
      "  warnings.warn(\n"
     ]
    }
   ],
   "source": [
    "from typing import Annotated\n",
    "from typing_extensions import TypedDict\n",
    "\n",
    "from langgraph.graph import StateGraph, START, END\n",
    "from langgraph.graph.message import add_messages"
   ]
  },
  {
   "cell_type": "code",
   "execution_count": 2,
   "metadata": {},
   "outputs": [],
   "source": [
    "class State(TypedDict):\n",
    "    messages :Annotated[list,add_messages]\n",
    "graph_builder = StateGraph(State)"
   ]
  },
  {
   "cell_type": "code",
   "execution_count": 3,
   "metadata": {},
   "outputs": [
    {
     "data": {
      "text/plain": [
       "True"
      ]
     },
     "execution_count": 3,
     "metadata": {},
     "output_type": "execute_result"
    }
   ],
   "source": [
    "import os \n",
    "from dotenv import load_dotenv\n",
    "load_dotenv()\n"
   ]
  },
  {
   "cell_type": "code",
   "execution_count": 4,
   "metadata": {},
   "outputs": [
    {
     "data": {
      "text/plain": [
       "<langgraph.graph.state.StateGraph at 0x1076a26a0>"
      ]
     },
     "execution_count": 4,
     "metadata": {},
     "output_type": "execute_result"
    }
   ],
   "source": [
    "graph_builder"
   ]
  },
  {
   "cell_type": "code",
   "execution_count": 5,
   "metadata": {},
   "outputs": [],
   "source": [
    "from langchain_groq import ChatGroq \n",
    "from langchain.chat_models import init_chat_model\n",
    "\n",
    "llm = ChatGroq(model=\"llama3-70b-8192\")"
   ]
  },
  {
   "cell_type": "code",
   "execution_count": 6,
   "metadata": {},
   "outputs": [
    {
     "data": {
      "text/plain": [
       "ChatGroq(client=<groq.resources.chat.completions.Completions object at 0x10d1f5550>, async_client=<groq.resources.chat.completions.AsyncCompletions object at 0x10d219c10>, model_name='llama3-70b-8192', model_kwargs={}, groq_api_key=SecretStr('**********'))"
      ]
     },
     "execution_count": 6,
     "metadata": {},
     "output_type": "execute_result"
    }
   ],
   "source": [
    "llm"
   ]
  },
  {
   "cell_type": "code",
   "execution_count": 7,
   "metadata": {},
   "outputs": [
    {
     "data": {
      "text/plain": [
       "ChatGroq(client=<groq.resources.chat.completions.Completions object at 0x10cebe760>, async_client=<groq.resources.chat.completions.AsyncCompletions object at 0x10d47ba00>, model_name='llama3-70b-8192', model_kwargs={}, groq_api_key=SecretStr('**********'))"
      ]
     },
     "execution_count": 7,
     "metadata": {},
     "output_type": "execute_result"
    }
   ],
   "source": [
    "llm = init_chat_model(\"groq:llama3-70b-8192\")\n",
    "llm"
   ]
  },
  {
   "cell_type": "code",
   "execution_count": 8,
   "metadata": {},
   "outputs": [],
   "source": [
    "##node functionality\n",
    "def chatbot(state:State):\n",
    "    return {\"messages\": [llm.invoke(state[\"messages\"])]}\n"
   ]
  },
  {
   "cell_type": "code",
   "execution_count": 9,
   "metadata": {},
   "outputs": [],
   "source": [
    "graphbuilder=StateGraph(State)\n",
    "##adding the node to the graph\n",
    "graphbuilder.add_node(\n",
    "    \"llmchatbot\",\n",
    "    chatbot)\n",
    "##adding edges to the graph\n",
    "graphbuilder.add_edge(START, \"llmchatbot\")\n",
    "graphbuilder.add_edge(\"llmchatbot\", END)\n",
    "\n",
    "##compiling the graph\n",
    "graph = graphbuilder.compile()"
   ]
  },
  {
   "cell_type": "code",
   "execution_count": 10,
   "metadata": {},
   "outputs": [
    {
     "data": {
      "image/png": "[encoded data removed]",
      "text/plain": [
       "<IPython.core.display.Image object>"
      ]
     },
     "metadata": {},
     "output_type": "display_data"
    }
   ],
   "source": [
    "from IPython.display import Image, display\n",
    "try :\n",
    "    display(Image(graph.get_graph().draw_mermaid_png()))\n",
    "except Exception :\n",
    "    pass "
   ]
  },
  {
   "cell_type": "code",
   "execution_count": 11,
   "metadata": {},
   "outputs": [],
   "source": [
    "response = graph.invoke({\"messages\": [\"Hello, how are you?\"]})"
   ]
  },
  {
   "cell_type": "code",
   "execution_count": 12,
   "metadata": {},
   "outputs": [
    {
     "data": {
      "text/plain": [
       "\"I'm just a language model, I don't have emotions or feelings like humans do, so I don't have good or bad days. However, I'm functioning properly and ready to assist you with any questions or tasks you may have! How can I help you today?\""
      ]
     },
     "execution_count": 12,
     "metadata": {},
     "output_type": "execute_result"
    }
   ],
   "source": [
    "response[\"messages\"][-1].content"
   ]
  },
  {
   "cell_type": "code",
   "execution_count": 13,
   "metadata": {},
   "outputs": [
    {
     "name": "stdout",
     "output_type": "stream",
     "text": [
      "I'm just a language model, I don't have feelings or emotions like humans do, so I don't have good or bad days. I'm always \"on\" and ready to help with any questions or tasks you may have! How can I assist you today?"
     ]
    }
   ],
   "source": [
    "for event in graph.stream({\"messages\": [\"Hello, how are you?\"]}):\n",
    "    for value in event.values():\n",
    "        print(value[\"messages\"][-1].content, end=\"\", flush=True)"
   ]
  },
  {
   "cell_type": "markdown",
   "metadata": {},
   "source": [
    "chatbot with tool:"
   ]
  },
  {
   "cell_type": "code",
   "execution_count": 14,
   "metadata": {},
   "outputs": [
    {
     "data": {
      "text/plain": [
       "{'query': 'What is the capital of France?',\n",
       " 'follow_up_questions': None,\n",
       " 'answer': None,\n",
       " 'images': [],\n",
       " 'results': [{'title': 'What is the Capital of France? - WorldAtlas',\n",
       "   'url': 'https://www.worldatlas.com/articles/what-is-the-capital-of-france.html',\n",
       "   'content': 'Paris is the capital city of France. Contrary to popular belief, the name of the city did not come from the Paris in Greek myths. Located in the north of Central France, the city is relatively flat with the highest point being 427 feet (which is Montmartre) above sea level while the lowest point is 115 feet above the sea level. With a GDP of approximately $850 billion, Paris is the country’s leader for economic activities. Tourists are attracted to Paris because of the rich history the city has including its monuments and sights. As the capital city of France, the city plays host to the national government of France. How Many Countries Are There In Africa? [x] Countries  All Countries',\n",
       "   'score': 0.9170729,\n",
       "   'raw_content': None},\n",
       "  {'title': 'Paris - Wikipedia',\n",
       "   'url': 'https://en.wikipedia.org/wiki/Paris',\n",
       "   'content': \"Paris (French pronunciation: [paʁi] ⓘ) is the capital and largest city of France. With an estimated population of 2,048,472 residents in January 2025 [3] in an area of more than 105 km 2 (41 sq mi), [4] Paris is the fourth-most populous city in the European Union and the 30th most densely populated city in the world in 2022. [5] Since the 17th century, Paris has been one of the world's\",\n",
       "   'score': 0.8896154,\n",
       "   'raw_content': None}],\n",
       " 'response_time': 1.8}"
      ]
     },
     "execution_count": 14,
     "metadata": {},
     "output_type": "execute_result"
    }
   ],
   "source": [
    "from langchain_tavily import TavilySearch\n",
    "tool = TavilySearch (max_results=2)\n",
    "tool.invoke(\"What is the capital of France?\")\n",
    "\n"
   ]
  },
  {
   "cell_type": "code",
   "execution_count": 15,
   "metadata": {},
   "outputs": [],
   "source": [
    "##custom functions\n",
    "def multiply(a: int, b: int) -> int:\n",
    "    \"\"\"Return the product of two integers.\n",
    "    Args:\n",
    "        a (int): The first integer.\n",
    "        b (int): The second integer.\n",
    "    Returns:\n",
    "        int: The product of the two integers.\n",
    "    \"\"\"\n",
    "    return a * b"
   ]
  },
  {
   "cell_type": "code",
   "execution_count": 16,
   "metadata": {},
   "outputs": [],
   "source": [
    "tools = [tool, multiply]"
   ]
  },
  {
   "cell_type": "code",
   "execution_count": 17,
   "metadata": {},
   "outputs": [],
   "source": [
    "llm_with_tools = llm.bind_tools(tools)"
   ]
  },
  {
   "cell_type": "code",
   "execution_count": 18,
   "metadata": {},
   "outputs": [
    {
     "data": {
      "text/plain": [
       "RunnableBinding(bound=ChatGroq(client=<groq.resources.chat.completions.Completions object at 0x10cebe760>, async_client=<groq.resources.chat.completions.AsyncCompletions object at 0x10d47ba00>, model_name='llama3-70b-8192', model_kwargs={}, groq_api_key=SecretStr('**********')), kwargs={'tools': [{'type': 'function', 'function': {'name': 'tavily_search', 'description': 'A search engine optimized for comprehensive, accurate, and trusted results. Useful for when you need to answer questions about current events. It not only retrieves URLs and snippets, but offers advanced search depths, domain management, time range filters, and image search, this tool delivers real-time, accurate, and citation-backed results.Input should be a search query.', 'parameters': {'properties': {'query': {'description': 'Search query to look up', 'type': 'string'}, 'include_domains': {'anyOf': [{'items': {'type': 'string'}, 'type': 'array'}, {'type': 'null'}], 'default': [], 'description': 'A list of domains to restrict search results to.\\n\\n        Use this parameter when:\\n        1. The user explicitly requests information from specific websites (e.g., \"Find climate data from nasa.gov\")\\n        2. The user mentions an organization or company without specifying the domain (e.g., \"Find information about iPhones from Apple\")\\n\\n        In both cases, you should determine the appropriate domains (e.g., [\"nasa.gov\"] or [\"apple.com\"]) and set this parameter.\\n\\n        Results will ONLY come from the specified domains - no other sources will be included.\\n        Default is None (no domain restriction).\\n        '}, 'exclude_domains': {'anyOf': [{'items': {'type': 'string'}, 'type': 'array'}, {'type': 'null'}], 'default': [], 'description': 'A list of domains to exclude from search results.\\n\\n        Use this parameter when:\\n        1. The user explicitly requests to avoid certain websites (e.g., \"Find information about climate change but not from twitter.com\")\\n        2. The user mentions not wanting results from specific organizations without naming the domain (e.g., \"Find phone reviews but nothing from Apple\")\\n\\n        In both cases, you should determine the appropriate domains to exclude (e.g., [\"twitter.com\"] or [\"apple.com\"]) and set this parameter.\\n\\n        Results will filter out all content from the specified domains.\\n        Default is None (no domain exclusion).\\n        '}, 'search_depth': {'anyOf': [{'enum': ['basic', 'advanced'], 'type': 'string'}, {'type': 'null'}], 'default': 'basic', 'description': 'Controls search thoroughness and result comprehensiveness.\\n    \\n        Use \"basic\" for simple queries requiring quick, straightforward answers.\\n        \\n        Use \"advanced\" (default) for complex queries, specialized topics, \\n        rare information, or when in-depth analysis is needed.\\n        '}, 'include_images': {'anyOf': [{'type': 'boolean'}, {'type': 'null'}], 'default': False, 'description': 'Determines if the search returns relevant images along with text results.\\n   \\n        Set to True when the user explicitly requests visuals or when images would \\n        significantly enhance understanding (e.g., \"Show me what black holes look like,\" \\n        \"Find pictures of Renaissance art\").\\n        \\n        Leave as False (default) for most informational queries where text is sufficient.\\n        '}, 'time_range': {'anyOf': [{'enum': ['day', 'week', 'month', 'year'], 'type': 'string'}, {'type': 'null'}], 'default': None, 'description': 'Limits results to content published within a specific timeframe.\\n        \\n        ONLY set this when the user explicitly mentions a time period \\n        (e.g., \"latest AI news,\" \"articles from last week\").\\n        \\n        For less popular or niche topics, use broader time ranges \\n        (\"month\" or \"year\") to ensure sufficient relevant results.\\n   \\n        Options: \"day\" (24h), \"week\" (7d), \"month\" (30d), \"year\" (365d).\\n        \\n        Default is None.\\n        '}, 'topic': {'anyOf': [{'enum': ['general', 'news', 'finance'], 'type': 'string'}, {'type': 'null'}], 'default': 'general', 'description': 'Specifies search category for optimized results.\\n   \\n        Use \"general\" (default) for most queries, INCLUDING those with terms like \\n        \"latest,\" \"newest,\" or \"recent\" when referring to general information.\\n\\n        Use \"finance\" for markets, investments, economic data, or financial news.\\n\\n        Use \"news\" ONLY for politics, sports, or major current events covered by \\n        mainstream media - NOT simply because a query asks for \"new\" information.\\n        '}}, 'required': ['query'], 'type': 'object'}}}, {'type': 'function', 'function': {'name': 'multiply', 'description': 'Return the product of two integers.\\nArgs:\\n    a (int): The first integer.\\n    b (int): The second integer.\\nReturns:\\n    int: The product of the two integers.', 'parameters': {'properties': {'a': {'type': 'integer'}, 'b': {'type': 'integer'}}, 'required': ['a', 'b'], 'type': 'object'}}}]}, config={}, config_factories=[])"
      ]
     },
     "execution_count": 18,
     "metadata": {},
     "output_type": "execute_result"
    }
   ],
   "source": [
    "llm_with_tools"
   ]
  },
  {
   "cell_type": "code",
   "execution_count": 19,
   "metadata": {},
   "outputs": [
    {
     "data": {
      "image/png": "[encoded data removed]",
      "text/plain": [
       "<IPython.core.display.Image object>"
      ]
     },
     "metadata": {},
     "output_type": "display_data"
    }
   ],
   "source": [
    "#stategraph \n",
    "from langgraph.graph import StateGraph, START, END\n",
    "from langgraph.prebuilt import ToolNode\n",
    "from langgraph.prebuilt import tools_condition\n",
    "\n",
    "##node definition\n",
    "def tool_Calling_llm(state:State):\n",
    "    return {\"messages\": [llm_with_tools.invoke(state[\"messages\"])]}\n",
    "\n",
    "##graph builder\n",
    "builder= StateGraph(State)\n",
    "builder.add_node(\"tool_Calling_llm\",tool_Calling_llm)\n",
    "builder.add_node(\"tools\", ToolNode(tools))\n",
    "\n",
    "##adding edges to the graph\n",
    "builder.add_edge(START, \"tool_Calling_llm\")\n",
    "builder.add_conditional_edges(\"tool_Calling_llm\",\n",
    "                              #if the latest message(result) from assistant is a tool call -> tools_condition routes to tools\n",
    "                              #if the latest message (result) from assistant is not a tool call -> tools_condition routes to END\n",
    "                       tools_condition)\n",
    "builder.add_edge(\"tools\", END)\n",
    "##compiling the graph\n",
    "graph = builder.compile()\n",
    "from IPython.display import Image, display\n",
    "display(Image(graph.get_graph().draw_mermaid_png()))"
   ]
  },
  {
   "cell_type": "code",
   "execution_count": 20,
   "metadata": {},
   "outputs": [],
   "source": [
    "response=graph.invoke({\"messages\": [\"What is AI?\"]})"
   ]
  },
  {
   "cell_type": "code",
   "execution_count": 21,
   "metadata": {},
   "outputs": [
    {
     "data": {
      "text/plain": [
       "'{\"query\": \"what is AI\", \"follow_up_questions\": null, \"answer\": null, \"images\": [], \"results\": [{\"title\": \"Artificial intelligence - Wikipedia\", \"url\": \"https://en.wikipedia.org/wiki/Artificial_intelligence\", \"content\": \"Artificial intelligence (AI) is the capability of computational systems to perform tasks typically associated with human intelligence, such as learning, reasoning, problem-solving, perception, and decision-making. It is a field of research in computer science that develops and studies methods and software that enable machines to perceive their environment and use learning and intelligence to\", \"score\": 0.90289277, \"raw_content\": null}, {\"title\": \"What Is Artificial Intelligence? Definition, Uses, and Types\", \"url\": \"https://www.coursera.org/articles/what-is-artificial-intelligence\", \"content\": \"Data Ethics, Artificial Intelligence and Machine Learning (AI/ML), Business Ethics, Artificial Neural Networks, Data Science, Team Building, Strategic Thinking, Market Opportunities, Needs Assessment, Machine Learning, Deep Learning, Artificial Intelligence, Engineering Management Yet, despite the many philosophical disagreements over whether “true” intelligent machines actually exist, when most people use the term AI today, they’re referring to a suite of machine learning-powered technologies, such as Chat GPT or computer vision, that enable machines to perform tasks that previously only humans can do like generating written content, steering a car, or analyzing data. Data Ethics, Artificial Intelligence and Machine Learning (AI/ML), Business Ethics, Artificial Neural Networks, Data Science, Team Building, Strategic Thinking, Market Opportunities, Needs Assessment, Machine Learning, Deep Learning, Artificial Intelligence, Engineering Management\", \"score\": 0.6914979, \"raw_content\": null}], \"response_time\": 1.32}'"
      ]
     },
     "execution_count": 21,
     "metadata": {},
     "output_type": "execute_result"
    }
   ],
   "source": [
    "response['messages'][-1].content"
   ]
  },
  {
   "cell_type": "code",
   "execution_count": 22,
   "metadata": {},
   "outputs": [
    {
     "name": "stdout",
     "output_type": "stream",
     "text": [
      "================================\u001b[1m Human Message \u001b[0m=================================\n",
      "\n",
      "What is AI?\n",
      "==================================\u001b[1m Ai Message \u001b[0m==================================\n",
      "Tool Calls:\n",
      "  tavily_search (1763hdy33)\n",
      " Call ID: 1763hdy33\n",
      "  Args:\n",
      "    exclude_domains: []\n",
      "    include_domains: []\n",
      "    include_images: False\n",
      "    query: what is AI\n",
      "    search_depth: basic\n",
      "    time_range: None\n",
      "    topic: general\n",
      "=================================\u001b[1m Tool Message \u001b[0m=================================\n",
      "Name: tavily_search\n",
      "\n",
      "{\"query\": \"what is AI\", \"follow_up_questions\": null, \"answer\": null, \"images\": [], \"results\": [{\"title\": \"Artificial intelligence - Wikipedia\", \"url\": \"https://en.wikipedia.org/wiki/Artificial_intelligence\", \"content\": \"Artificial intelligence (AI) is the capability of computational systems to perform tasks typically associated with human intelligence, such as learning, reasoning, problem-solving, perception, and decision-making. It is a field of research in computer science that develops and studies methods and software that enable machines to perceive their environment and use learning and intelligence to\", \"score\": 0.90289277, \"raw_content\": null}, {\"title\": \"What Is Artificial Intelligence? Definition, Uses, and Types\", \"url\": \"https://www.coursera.org/articles/what-is-artificial-intelligence\", \"content\": \"Data Ethics, Artificial Intelligence and Machine Learning (AI/ML), Business Ethics, Artificial Neural Networks, Data Science, Team Building, Strategic Thinking, Market Opportunities, Needs Assessment, Machine Learning, Deep Learning, Artificial Intelligence, Engineering Management Yet, despite the many philosophical disagreements over whether “true” intelligent machines actually exist, when most people use the term AI today, they’re referring to a suite of machine learning-powered technologies, such as Chat GPT or computer vision, that enable machines to perform tasks that previously only humans can do like generating written content, steering a car, or analyzing data. Data Ethics, Artificial Intelligence and Machine Learning (AI/ML), Business Ethics, Artificial Neural Networks, Data Science, Team Building, Strategic Thinking, Market Opportunities, Needs Assessment, Machine Learning, Deep Learning, Artificial Intelligence, Engineering Management\", \"score\": 0.6914979, \"raw_content\": null}], \"response_time\": 1.32}\n"
     ]
    }
   ],
   "source": [
    "for m in response['messages']:\n",
    "    m.pretty_print() "
   ]
  },
  {
   "cell_type": "code",
   "execution_count": 23,
   "metadata": {},
   "outputs": [
    {
     "name": "stdout",
     "output_type": "stream",
     "text": [
      "================================\u001b[1m Human Message \u001b[0m=================================\n",
      "\n",
      "What is 2 multiplied by 7?\n",
      "==================================\u001b[1m Ai Message \u001b[0m==================================\n",
      "Tool Calls:\n",
      "  multiply (j80n0egfk)\n",
      " Call ID: j80n0egfk\n",
      "  Args:\n",
      "    a: 2\n",
      "    b: 7\n",
      "=================================\u001b[1m Tool Message \u001b[0m=================================\n",
      "Name: multiply\n",
      "\n",
      "14\n"
     ]
    }
   ],
   "source": [
    "response=graph.invoke({\"messages\": [\"What is 2 multiplied by 7?\"]})\n",
    "for m in response['messages']:\n",
    "    m.pretty_print() "
   ]
  },
  {
   "cell_type": "code",
   "execution_count": 24,
   "metadata": {},
   "outputs": [
    {
     "name": "stdout",
     "output_type": "stream",
     "text": [
      "================================\u001b[1m Human Message \u001b[0m=================================\n",
      "\n",
      "What is 2 multiplied by 7? and what is the capital of France?\n",
      "==================================\u001b[1m Ai Message \u001b[0m==================================\n",
      "Tool Calls:\n",
      "  multiply (vrqt036dy)\n",
      " Call ID: vrqt036dy\n",
      "  Args:\n",
      "    a: 2\n",
      "    b: 7\n",
      "  tavily_search (86fg9c82w)\n",
      " Call ID: 86fg9c82w\n",
      "  Args:\n",
      "    query: What is the capital of France\n",
      "=================================\u001b[1m Tool Message \u001b[0m=================================\n",
      "Name: multiply\n",
      "\n",
      "14\n",
      "=================================\u001b[1m Tool Message \u001b[0m=================================\n",
      "Name: tavily_search\n",
      "\n",
      "{\"query\": \"What is the capital of France\", \"follow_up_questions\": null, \"answer\": null, \"images\": [], \"results\": [{\"title\": \"What is the Capital of France? - WorldAtlas\", \"url\": \"https://www.worldatlas.com/articles/what-is-the-capital-of-france.html\", \"content\": \"Paris is the capital city of France. Contrary to popular belief, the name of the city did not come from the Paris in Greek myths. Located in the north of Central France, the city is relatively flat with the highest point being 427 feet (which is Montmartre) above sea level while the lowest point is 115 feet above the sea level. With a GDP of approximately $850 billion, Paris is the country’s leader for economic activities. Tourists are attracted to Paris because of the rich history the city has including its monuments and sights. As the capital city of France, the city plays host to the national government of France. How Many Countries Are There In Africa? [x] Countries  All Countries\", \"score\": 0.9041187, \"raw_content\": null}, {\"title\": \"Paris - Wikipedia\", \"url\": \"https://en.wikipedia.org/wiki/Paris\", \"content\": \"Paris (French pronunciation: ⓘ) is the capital and largest city of France.With an estimated population of 2,048,472 residents in January 2025 [3] in an area of more than 105 km 2 (41 sq mi), [4] Paris is the fourth-most populous city in the European Union and the 30th most densely populated city in the world in 2022. [5] Since the 17th century, Paris has been one of the world's major centres\", \"score\": 0.8703443, \"raw_content\": null}], \"response_time\": 1.29}\n"
     ]
    }
   ],
   "source": [
    "response=graph.invoke({\"messages\": [\"What is 2 multiplied by 7? and what is the capital of France?\"]})\n",
    "for m in response['messages']:\n",
    "    m.pretty_print() "
   ]
  },
  {
   "cell_type": "markdown",
   "metadata": {},
   "source": [
    "### ReAgent architecture :\n"
   ]
  },
  {
   "cell_type": "code",
   "execution_count": 25,
   "metadata": {},
   "outputs": [
    {
     "data": {
      "image/png": "[encoded data removed]",
      "text/plain": [
       "<IPython.core.display.Image object>"
      ]
     },
     "metadata": {},
     "output_type": "display_data"
    }
   ],
   "source": [
    "#stategraph \n",
    "from langgraph.graph import StateGraph, START, END\n",
    "from langgraph.prebuilt import ToolNode\n",
    "from langgraph.prebuilt import tools_condition\n",
    "\n",
    "##node definition\n",
    "def tool_Calling_llm(state:State):\n",
    "    return {\"messages\": [llm_with_tools.invoke(state[\"messages\"])]}\n",
    "\n",
    "##graph builder\n",
    "builder= StateGraph(State)\n",
    "builder.add_node(\"tool_Calling_llm\",tool_Calling_llm)\n",
    "builder.add_node(\"tools\", ToolNode(tools))\n",
    "\n",
    "##adding edges to the graph\n",
    "builder.add_edge(START, \"tool_Calling_llm\")\n",
    "builder.add_conditional_edges(\"tool_Calling_llm\",\n",
    "                              #if the latest message(result) from assistant is a tool call -> tools_condition routes to tools\n",
    "                              #if the latest message (result) from assistant is not a tool call -> tools_condition routes to END\n",
    "                       tools_condition)\n",
    "builder.add_edge(\"tools\", \"tool_Calling_llm\")\n",
    "##compiling the graph\n",
    "graph = builder.compile()\n",
    "from IPython.display import Image, display\n",
    "display(Image(graph.get_graph().draw_mermaid_png()))"
   ]
  },
  {
   "cell_type": "code",
   "execution_count": 26,
   "metadata": {},
   "outputs": [
    {
     "name": "stdout",
     "output_type": "stream",
     "text": [
      "================================\u001b[1m Human Message \u001b[0m=================================\n",
      "\n",
      "what is the capital of France? and what is 2 multiplied by 7?\n",
      "==================================\u001b[1m Ai Message \u001b[0m==================================\n",
      "Tool Calls:\n",
      "  multiply (6ybx5z2k6)\n",
      " Call ID: 6ybx5z2k6\n",
      "  Args:\n",
      "    a: 2\n",
      "    b: 7\n",
      "=================================\u001b[1m Tool Message \u001b[0m=================================\n",
      "Name: multiply\n",
      "\n",
      "14\n",
      "==================================\u001b[1m Ai Message \u001b[0m==================================\n",
      "Tool Calls:\n",
      "  tavily_search (0sy0hs7j4)\n",
      " Call ID: 0sy0hs7j4\n",
      "  Args:\n",
      "    query: What is the capital of France\n",
      "=================================\u001b[1m Tool Message \u001b[0m=================================\n",
      "Name: tavily_search\n",
      "\n",
      "{\"query\": \"What is the capital of France\", \"follow_up_questions\": null, \"answer\": null, \"images\": [], \"results\": [{\"title\": \"What is the Capital of France? - WorldAtlas\", \"url\": \"https://www.worldatlas.com/articles/what-is-the-capital-of-france.html\", \"content\": \"Paris is the capital city of France. Contrary to popular belief, the name of the city did not come from the Paris in Greek myths. Located in the north of Central France, the city is relatively flat with the highest point being 427 feet (which is Montmartre) above sea level while the lowest point is 115 feet above the sea level. With a GDP of approximately $850 billion, Paris is the country’s leader for economic activities. Tourists are attracted to Paris because of the rich history the city has including its monuments and sights. As the capital city of France, the city plays host to the national government of France. How Many Countries Are There In Africa? [x] Countries  All Countries\", \"score\": 0.9041187, \"raw_content\": null}, {\"title\": \"Paris - Wikipedia\", \"url\": \"https://en.wikipedia.org/wiki/Paris\", \"content\": \"Paris (French pronunciation: ⓘ) is the capital and largest city of France.With an estimated population of 2,048,472 residents in January 2025 [3] in an area of more than 105 km 2 (41 sq mi), [4] Paris is the fourth-most populous city in the European Union and the 30th most densely populated city in the world in 2022. [5] Since the 17th century, Paris has been one of the world's major centres\", \"score\": 0.8703443, \"raw_content\": null}], \"response_time\": 1.11}\n",
      "==================================\u001b[1m Ai Message \u001b[0m==================================\n",
      "\n",
      "The capital of France is Paris. And 2 multiplied by 7 is 14.\n"
     ]
    }
   ],
   "source": [
    "response=graph.invoke({\"messages\": [\"what is the capital of France? and what is 2 multiplied by 7?\"]})\n",
    "for m in response['messages']:\n",
    "    m.pretty_print()"
   ]
  },
  {
   "cell_type": "markdown",
   "metadata": {},
   "source": [
    "##### adding memory in langgraph \n"
   ]
  },
  {
   "cell_type": "code",
   "execution_count": 27,
   "metadata": {},
   "outputs": [
    {
     "data": {
      "image/png": "[encoded data removed]",
      "text/plain": [
       "<IPython.core.display.Image object>"
      ]
     },
     "metadata": {},
     "output_type": "display_data"
    }
   ],
   "source": [
    "#stategraph \n",
    "from langgraph.graph import StateGraph, START, END\n",
    "from langgraph.prebuilt import ToolNode\n",
    "from langgraph.prebuilt import tools_condition\n",
    "from langgraph.checkpoint.memory import MemorySaver\n",
    "\n",
    "memory = MemorySaver()\n",
    "\n",
    "##node definition\n",
    "def tool_Calling_llm(state:State):\n",
    "    return {\"messages\": [llm_with_tools.invoke(state[\"messages\"])]}\n",
    "\n",
    "##graph builder\n",
    "builder= StateGraph(State)\n",
    "builder.add_node(\"tool_Calling_llm\",tool_Calling_llm)\n",
    "builder.add_node(\"tools\", ToolNode(tools))\n",
    "\n",
    "##adding edges to the graph\n",
    "builder.add_edge(START, \"tool_Calling_llm\")\n",
    "builder.add_conditional_edges(\"tool_Calling_llm\",\n",
    "                              #if the latest message(result) from assistant is a tool call -> tools_condition routes to tools\n",
    "                              #if the latest message (result) from assistant is not a tool call -> tools_condition routes to END\n",
    "                       tools_condition)\n",
    "builder.add_edge(\"tools\", \"tool_Calling_llm\")\n",
    "##compiling the graph\n",
    "graph = builder.compile(checkpointer=memory)\n",
    "from IPython.display import Image, display\n",
    "display(Image(graph.get_graph().draw_mermaid_png()))"
   ]
  },
  {
   "cell_type": "code",
   "execution_count": 28,
   "metadata": {},
   "outputs": [
    {
     "name": "stdout",
     "output_type": "stream",
     "text": [
      "Nice to meet you, Lux!\n"
     ]
    }
   ],
   "source": [
    "config={\"configurable\":{\"thread_id\":\"1\"}}\n",
    "response = graph.invoke({\"messages\":\"hi, my name is lux\"}, config=config)\n",
    "response\n",
    "print(response[\"messages\"][-1].content)\n"
   ]
  },
  {
   "cell_type": "code",
   "execution_count": 29,
   "metadata": {},
   "outputs": [
    {
     "name": "stdout",
     "output_type": "stream",
     "text": [
      "Your name is Lux!\n"
     ]
    }
   ],
   "source": [
    "response = graph.invoke({\"messages\":\"hey what is my name?\"}, config=config)\n",
    "response\n",
    "print(response[\"messages\"][-1].content)"
   ]
  },
  {
   "cell_type": "markdown",
   "metadata": {},
   "source": [
    "### STREAMING:\n"
   ]
  },
  {
   "cell_type": "code",
   "execution_count": 30,
   "metadata": {},
   "outputs": [],
   "source": [
    "from langgraph.checkpoint.memory import MemorySaver\n",
    "memory = MemorySaver()"
   ]
  },
  {
   "cell_type": "code",
   "execution_count": 31,
   "metadata": {},
   "outputs": [],
   "source": [
    "def superbot(state: State):\n",
    "    return {\"messages\": [llm_with_tools.invoke(state[\"messages\"])]}"
   ]
  },
  {
   "cell_type": "code",
   "execution_count": 36,
   "metadata": {},
   "outputs": [
    {
     "data": {
      "image/png": "[encoded data removed]",
      "text/plain": [
       "<IPython.core.display.Image object>"
      ]
     },
     "metadata": {},
     "output_type": "display_data"
    }
   ],
   "source": [
    "graph=StateGraph(State)\n",
    "##adding the node to the graph\n",
    "graph.add_node(\"SuperBot\",superbot)\n",
    "##adding edges to the graph\n",
    "graph.add_edge(START, \"SuperBot\")\n",
    "graph.add_edge(\"SuperBot\", END)\n",
    "\n",
    "graph_builder=graph.compile(checkpointer=memory)\n",
    "\n",
    "\n",
    "from IPython.display import Image, display\n",
    "display(Image(graph_builder.get_graph().draw_mermaid_png()))"
   ]
  },
  {
   "cell_type": "code",
   "execution_count": 38,
   "metadata": {},
   "outputs": [
    {
     "data": {
      "text/plain": [
       "{'messages': [HumanMessage(content='hi, my name is lux and i love to design', additional_kwargs={}, response_metadata={}, id='31150bae-9d56-42b4-9195-12bc33c4b852'),\n",
       "  AIMessage(content='Nice to meet you, Lux! It sounds like you have a passion for design. What kind of design do you enjoy doing the most? Are you into graphic design, interior design, fashion design, or something else?', additional_kwargs={}, response_metadata={'token_usage': {'completion_tokens': 45, 'prompt_tokens': 2222, 'total_tokens': 2267, 'completion_time': 0.163263365, 'prompt_time': 0.08999136, 'queue_time': 0.05595004699999999, 'total_time': 0.253254725}, 'model_name': 'llama3-70b-8192', 'system_fingerprint': 'fp_dd4ae1c591', 'finish_reason': 'stop', 'logprobs': None}, id='run--72d1e5e7-1daf-43cd-85f0-8a9028017afd-0', usage_metadata={'input_tokens': 2222, 'output_tokens': 45, 'total_tokens': 2267})]}"
      ]
     },
     "execution_count": 38,
     "metadata": {},
     "output_type": "execute_result"
    }
   ],
   "source": [
    "config={\"configurable\":{\"thread_id\":\"1\"}}\n",
    "graph_builder.invoke({\"messages\":\"hi, my name is lux and i love to design\"}, config=config)\n",
    "\n"
   ]
  },
  {
   "cell_type": "code",
   "execution_count": null,
   "metadata": {},
   "outputs": [
    {
     "name": "stdout",
     "output_type": "stream",
     "text": [
      "{'SuperBot': {'messages': [AIMessage(content='<tool-use>{\"tool_calls\": []}</tool-use>', additional_kwargs={}, response_metadata={'token_usage': {'completion_tokens': 13, 'prompt_tokens': 2282, 'total_tokens': 2295, 'completion_time': 0.132887402, 'prompt_time': 0.088319916, 'queue_time': 0.054910422000000014, 'total_time': 0.221207318}, 'model_name': 'llama3-70b-8192', 'system_fingerprint': 'fp_dd4ae1c591', 'finish_reason': 'stop', 'logprobs': None}, id='run--7c5bc760-1c0f-45ce-818e-87173eedbca0-0', usage_metadata={'input_tokens': 2282, 'output_tokens': 13, 'total_tokens': 2295})]}}\n"
     ]
    }
   ],
   "source": [
    "##streaming response in stream mode as updates\n",
    "config={\"configurable\":{\"thread_id\":\"3\"}}\n",
    "for chunk in graph_builder.stream({\"messages\":\"hi, my name is lux and i love to design\"}, config, stream_mode=\"updates\"):\n",
    "    print(chunk)"
   ]
  },
  {
   "cell_type": "code",
   "execution_count": 41,
   "metadata": {},
   "outputs": [
    {
     "name": "stdout",
     "output_type": "stream",
     "text": [
      "{'messages': [HumanMessage(content='hi, my name is lux and i love to design', additional_kwargs={}, response_metadata={}, id='c8949a84-2b13-4c16-8661-699f968f0105')]}\n",
      "{'messages': [HumanMessage(content='hi, my name is lux and i love to design', additional_kwargs={}, response_metadata={}, id='c8949a84-2b13-4c16-8661-699f968f0105'), AIMessage(content='<tool-use>{\"tool_calls\": []}</tool-use>', additional_kwargs={}, response_metadata={'token_usage': {'completion_tokens': 13, 'prompt_tokens': 2222, 'total_tokens': 2235, 'completion_time': 0.139768133, 'prompt_time': 0.086639958, 'queue_time': 0.055524140999999985, 'total_time': 0.226408091}, 'model_name': 'llama3-70b-8192', 'system_fingerprint': 'fp_dd4ae1c591', 'finish_reason': 'stop', 'logprobs': None}, id='run--63a7f5ac-8c55-4fba-8c7b-6d56cd356782-0', usage_metadata={'input_tokens': 2222, 'output_tokens': 13, 'total_tokens': 2235})]}\n"
     ]
    }
   ],
   "source": [
    "## streaming response in stream mode as values\n",
    "config={\"configurable\":{\"thread_id\":\"4\"}}\n",
    "for chunk in graph_builder.stream({\"messages\":\"hi, my name is lux and i love to design\"}, config, stream_mode=\"values\"):\n",
    "    print(chunk)"
   ]
  },
  {
   "cell_type": "code",
   "execution_count": 43,
   "metadata": {},
   "outputs": [
    {
     "name": "stdout",
     "output_type": "stream",
     "text": [
      "{'SuperBot': {'messages': [AIMessage(content=\"Hi Lux, that's great! Fashion design and styling can be so much fun. What kind of fashion design are you most interested in? Are you into haute couture, streetwear, or something else?\", additional_kwargs={}, response_metadata={'token_usage': {'completion_tokens': 43, 'prompt_tokens': 2301, 'total_tokens': 2344, 'completion_time': 0.246400312, 'prompt_time': 0.089021412, 'queue_time': 0.056006644999999994, 'total_time': 0.335421724}, 'model_name': 'llama3-70b-8192', 'system_fingerprint': 'fp_dd4ae1c591', 'finish_reason': 'stop', 'logprobs': None}, id='run--50d24b0d-6742-4073-8fd4-5068d3bbd372-0', usage_metadata={'input_tokens': 2301, 'output_tokens': 43, 'total_tokens': 2344})]}}\n"
     ]
    }
   ],
   "source": [
    "config={\"configurable\":{\"thread_id\":\"5\"}}\n",
    "for chunk in graph_builder.stream({\"messages\":\"hi, my name is lux and i love to design, particularly styling and fashion\"}, config, stream_mode=\"updates\"):\n",
    "    print(chunk)"
   ]
  },
  {
   "cell_type": "code",
   "execution_count": 45,
   "metadata": {},
   "outputs": [
    {
     "name": "stdout",
     "output_type": "stream",
     "text": [
      "{'SuperBot': {'messages': [AIMessage(content=\"Hi Lux, that's great! Fashion design and styling can be so much fun. What kind of fashion design are you most interested in? Are you into haute couture, streetwear, or something else?\", additional_kwargs={}, response_metadata={'token_usage': {'completion_tokens': 43, 'prompt_tokens': 2301, 'total_tokens': 2344, 'completion_time': 0.246400312, 'prompt_time': 0.089021412, 'queue_time': 0.056006644999999994, 'total_time': 0.335421724}, 'model_name': 'llama3-70b-8192', 'system_fingerprint': 'fp_dd4ae1c591', 'finish_reason': 'stop', 'logprobs': None}, id='run--50d24b0d-6742-4073-8fd4-5068d3bbd372-0', usage_metadata={'input_tokens': 2301, 'output_tokens': 43, 'total_tokens': 2344})]}}\n",
      "{'SuperBot': {'messages': [AIMessage(content=\"Hi Lux, that's great! Fashion design and styling can be so much fun. What kind of fashion design are you most interested in? Are you into haute couture, streetwear, or something else?\", additional_kwargs={}, response_metadata={'token_usage': {'completion_tokens': 43, 'prompt_tokens': 2301, 'total_tokens': 2344, 'completion_time': 0.246400312, 'prompt_time': 0.089021412, 'queue_time': 0.056006644999999994, 'total_time': 0.335421724}, 'model_name': 'llama3-70b-8192', 'system_fingerprint': 'fp_dd4ae1c591', 'finish_reason': 'stop', 'logprobs': None}, id='run--50d24b0d-6742-4073-8fd4-5068d3bbd372-0', usage_metadata={'input_tokens': 2301, 'output_tokens': 43, 'total_tokens': 2344})]}}\n",
      "{'SuperBot': {'messages': [AIMessage(content=\"Hi Lux, that's great! Fashion design and styling can be so much fun. What kind of fashion design are you most interested in? Are you into haute couture, streetwear, or something else?\", additional_kwargs={}, response_metadata={'token_usage': {'completion_tokens': 43, 'prompt_tokens': 2301, 'total_tokens': 2344, 'completion_time': 0.246400312, 'prompt_time': 0.089021412, 'queue_time': 0.056006644999999994, 'total_time': 0.335421724}, 'model_name': 'llama3-70b-8192', 'system_fingerprint': 'fp_dd4ae1c591', 'finish_reason': 'stop', 'logprobs': None}, id='run--50d24b0d-6742-4073-8fd4-5068d3bbd372-0', usage_metadata={'input_tokens': 2301, 'output_tokens': 43, 'total_tokens': 2344})]}}\n",
      "{'SuperBot': {'messages': [AIMessage(content=\"Hi Lux, that's great! Fashion design and styling can be so much fun. What kind of fashion design are you most interested in? Are you into haute couture, streetwear, or something else?\", additional_kwargs={}, response_metadata={'token_usage': {'completion_tokens': 43, 'prompt_tokens': 2301, 'total_tokens': 2344, 'completion_time': 0.246400312, 'prompt_time': 0.089021412, 'queue_time': 0.056006644999999994, 'total_time': 0.335421724}, 'model_name': 'llama3-70b-8192', 'system_fingerprint': 'fp_dd4ae1c591', 'finish_reason': 'stop', 'logprobs': None}, id='run--50d24b0d-6742-4073-8fd4-5068d3bbd372-0', usage_metadata={'input_tokens': 2301, 'output_tokens': 43, 'total_tokens': 2344})]}}\n",
      "{'SuperBot': {'messages': [AIMessage(content=\"Hi Lux, that's great! Fashion design and styling can be so much fun. What kind of fashion design are you most interested in? Are you into haute couture, streetwear, or something else?\", additional_kwargs={}, response_metadata={'token_usage': {'completion_tokens': 43, 'prompt_tokens': 2301, 'total_tokens': 2344, 'completion_time': 0.246400312, 'prompt_time': 0.089021412, 'queue_time': 0.056006644999999994, 'total_time': 0.335421724}, 'model_name': 'llama3-70b-8192', 'system_fingerprint': 'fp_dd4ae1c591', 'finish_reason': 'stop', 'logprobs': None}, id='run--50d24b0d-6742-4073-8fd4-5068d3bbd372-0', usage_metadata={'input_tokens': 2301, 'output_tokens': 43, 'total_tokens': 2344})]}}\n",
      "{'SuperBot': {'messages': [AIMessage(content=\"Hi Lux, that's great! Fashion design and styling can be so much fun. What kind of fashion design are you most interested in? Are you into haute couture, streetwear, or something else?\", additional_kwargs={}, response_metadata={'token_usage': {'completion_tokens': 43, 'prompt_tokens': 2301, 'total_tokens': 2344, 'completion_time': 0.246400312, 'prompt_time': 0.089021412, 'queue_time': 0.056006644999999994, 'total_time': 0.335421724}, 'model_name': 'llama3-70b-8192', 'system_fingerprint': 'fp_dd4ae1c591', 'finish_reason': 'stop', 'logprobs': None}, id='run--50d24b0d-6742-4073-8fd4-5068d3bbd372-0', usage_metadata={'input_tokens': 2301, 'output_tokens': 43, 'total_tokens': 2344})]}}\n"
     ]
    }
   ],
   "source": [
    "config={\"configurable\":{\"thread_id\":\"5\"}}\n",
    "async for event in graph_builder.astream_events({\"messages\":\"hi, my name is lux and i love to design, particularly styling and fashion\"}, config, version=\"v2\"):\n",
    "    print(chunk)"
   ]
  },
  {
   "cell_type": "markdown",
   "metadata": {},
   "source": [
    "# human feedback in the loop \n"
   ]
  },
  {
   "cell_type": "code",
   "execution_count": 61,
   "metadata": {},
   "outputs": [
    {
     "data": {
      "text/plain": [
       "ChatGroq(client=<groq.resources.chat.completions.Completions object at 0x10ef43be0>, async_client=<groq.resources.chat.completions.AsyncCompletions object at 0x10f90cd30>, model_name='llama3-70b-8192', model_kwargs={}, groq_api_key=SecretStr('**********'))"
      ]
     },
     "execution_count": 61,
     "metadata": {},
     "output_type": "execute_result"
    }
   ],
   "source": [
    "import os \n",
    "from langchain_groq import ChatGroq\n",
    "from langchain.chat_models import init_chat_model\n",
    "llm = ChatGroq(model=\"llama3-70b-8192\")\n",
    "llm = init_chat_model(\"groq:llama3-70b-8192\")\n",
    "llm"
   ]
  },
  {
   "cell_type": "code",
   "execution_count": 68,
   "metadata": {},
   "outputs": [
    {
     "data": {
      "text/plain": [
       "<langgraph.graph.state.StateGraph at 0x10fb4f490>"
      ]
     },
     "execution_count": 68,
     "metadata": {},
     "output_type": "execute_result"
    }
   ],
   "source": [
    "from typing import Annotated\n",
    "\n",
    "from langchain_tavily import TavilySearch\n",
    "from langchain_core.tools import tool\n",
    "from typing_extensions import TypedDict\n",
    "\n",
    "from langgraph.checkpoint.memory import MemorySaver\n",
    "from langgraph.graph import StateGraph, START, END\n",
    "from langgraph.graph.message import add_messages\n",
    "from langgraph.prebuilt import ToolNode, tools_condition\n",
    "\n",
    "from langgraph.types import Command, interrupt\n",
    "\n",
    "class State(TypedDict):\n",
    "    messages: Annotated[list, add_messages]\n",
    "\n",
    "graph_builder = StateGraph(State)\n",
    "\n",
    "@tool\n",
    "def human_assistance(query: str) -> str:\n",
    "    \"\"\"Request assistance from a human.\"\"\"\n",
    "    human_response = interrupt({\"query\": query})\n",
    "    return human_response[\"data\"]\n",
    "\n",
    "tool = TavilySearch(max_results=2)\n",
    "tools = [tool, human_assistance]\n",
    "llm_with_tools = llm.bind_tools(tools)\n",
    "\n",
    "def chatbot(state: State):\n",
    "    message = llm_with_tools.invoke(state[\"messages\"])\n",
    "    # Because we will be interrupting during tool execution,\n",
    "    # we disable parallel tool calling to avoid repeating any\n",
    "    # tool invocations when we resume.\n",
    "    \n",
    "    return {\"messages\": [message]}\n",
    "\n",
    "graph_builder.add_node(\"chatbot\", chatbot)\n",
    "\n",
    "tool_node = ToolNode(tools=tools)\n",
    "graph_builder.add_node(\"tools\", tool_node)\n",
    "\n",
    "graph_builder.add_conditional_edges(\n",
    "    \"chatbot\",\n",
    "    tools_condition,\n",
    ")\n",
    "graph_builder.add_edge(\"tools\", \"chatbot\")\n",
    "graph_builder.add_edge(START, \"chatbot\")"
   ]
  },
  {
   "cell_type": "code",
   "execution_count": 69,
   "metadata": {},
   "outputs": [],
   "source": [
    "memory = MemorySaver()\n",
    "\n",
    "graph = graph_builder.compile(checkpointer=memory)"
   ]
  },
  {
   "cell_type": "code",
   "execution_count": 70,
   "metadata": {},
   "outputs": [
    {
     "data": {
      "image/png": "[encoded data removed]",
      "text/plain": [
       "<IPython.core.display.Image object>"
      ]
     },
     "metadata": {},
     "output_type": "display_data"
    }
   ],
   "source": [
    "from IPython.display import Image, display\n",
    "\n",
    "try:\n",
    "    display(Image(graph.get_graph().draw_mermaid_png()))\n",
    "except Exception:\n",
    "    # This requires some extra dependencies and is optional\n",
    "    pass"
   ]
  },
  {
   "cell_type": "code",
   "execution_count": 71,
   "metadata": {},
   "outputs": [
    {
     "name": "stdout",
     "output_type": "stream",
     "text": [
      "================================\u001b[1m Human Message \u001b[0m=================================\n",
      "\n",
      "I need some expert guidance and assistance for building an AI agent. Could you request assistance for me?\n",
      "==================================\u001b[1m Ai Message \u001b[0m==================================\n",
      "Tool Calls:\n",
      "  human_assistance (ht61ysgfs)\n",
      " Call ID: ht61ysgfs\n",
      "  Args:\n",
      "    query: I need some expert guidance and assistance for building an AI agent.\n"
     ]
    }
   ],
   "source": [
    "user_input = \"I need some expert guidance and assistance for building an AI agent. Could you request assistance for me?\"\n",
    "config = {\"configurable\": {\"thread_id\": \"1\"}}\n",
    "\n",
    "events = graph.stream(\n",
    "    {\"messages\": user_input},\n",
    "    config,\n",
    "    stream_mode=\"values\",\n",
    ")\n",
    "for event in events:\n",
    "    if \"messages\" in event:\n",
    "        event[\"messages\"][-1].pretty_print()"
   ]
  },
  {
   "cell_type": "code",
   "execution_count": 72,
   "metadata": {},
   "outputs": [
    {
     "name": "stdout",
     "output_type": "stream",
     "text": [
      "==================================\u001b[1m Ai Message \u001b[0m==================================\n",
      "Tool Calls:\n",
      "  human_assistance (ht61ysgfs)\n",
      " Call ID: ht61ysgfs\n",
      "  Args:\n",
      "    query: I need some expert guidance and assistance for building an AI agent.\n",
      "=================================\u001b[1m Tool Message \u001b[0m=================================\n",
      "Name: human_assistance\n",
      "\n",
      "We, the experts are here to help! We'd recommend you check out LangGraph to build your agent. It's much more reliable and extensible than simple autonomous agents.\n",
      "==================================\u001b[1m Ai Message \u001b[0m==================================\n",
      "\n",
      "No tool call is needed in this case. I will respond directly.\n",
      "\n",
      "That sounds like great advice! LangGraph does seem like a reliable and extensible option for building an AI agent. Would you like to know more about how to get started with LangGraph or are there any specific aspects of building an AI agent you'd like some guidance on?\n"
     ]
    }
   ],
   "source": [
    "human_response = (\n",
    "    \"We, the experts are here to help! We'd recommend you check out LangGraph to build your agent.\"\n",
    "    \" It's much more reliable and extensible than simple autonomous agents.\"\n",
    ")\n",
    "\n",
    "human_command = Command(resume={\"data\": human_response})\n",
    "\n",
    "events = graph.stream(human_command, config, stream_mode=\"values\")\n",
    "for event in events:\n",
    "    if \"messages\" in event:\n",
    "        event[\"messages\"][-1].pretty_print()"
   ]
  }
 ],
 "metadata": {
  "kernelspec": {
   "display_name": ".venv",
   "language": "python",
   "name": "python3"
  },
  "language_info": {
   "codemirror_mode": {
    "name": "ipython",
    "version": 3
   },
   "file_extension": ".py",
   "mimetype": "text/x-python",
   "name": "python",
   "nbconvert_exporter": "python",
   "pygments_lexer": "ipython3",
   "version": "3.9.6"
  }
 },
 "nbformat": 4,
 "nbformat_minor": 2
}
