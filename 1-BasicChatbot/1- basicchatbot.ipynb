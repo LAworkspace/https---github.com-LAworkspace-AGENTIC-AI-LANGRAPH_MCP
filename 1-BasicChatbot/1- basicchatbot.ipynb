{
 "cells": [
  {
   "cell_type": "markdown",
   "metadata": {},
   "source": [
    "build a basic chatbot (graph api functionality)"
   ]
  },
  {
   "cell_type": "code",
   "execution_count": 4,
   "metadata": {},
   "outputs": [],
   "source": [
    "from typing import Annotated\n",
    "from typing_extensions import TypedDict\n",
    "\n",
    "from langgraph.graph import StateGraph, START, END\n",
    "from langgraph.graph.message import add_messages"
   ]
  },
  {
   "cell_type": "code",
   "execution_count": null,
   "metadata": {},
   "outputs": [
    {
     "ename": "TypeError",
     "evalue": "'type' object is not subscriptable",
     "output_type": "error",
     "traceback": [
      "\u001b[0;31m---------------------------------------------------------------------------\u001b[0m",
      "\u001b[0;31mTypeError\u001b[0m                                 Traceback (most recent call last)",
      "Cell \u001b[0;32mIn[5], line 3\u001b[0m\n\u001b[1;32m      1\u001b[0m \u001b[38;5;28;01mclass\u001b[39;00m\u001b[38;5;250m \u001b[39m\u001b[38;5;21;01mstate\u001b[39;00m(TypedDict):\n\u001b[1;32m      2\u001b[0m     messages : Annotated[\u001b[38;5;28mlist\u001b[39m,add_messages]\n\u001b[0;32m----> 3\u001b[0m graphbuilder \u001b[38;5;241m=\u001b[39m \u001b[43mStateGraph\u001b[49m\u001b[43m[\u001b[49m\u001b[43mstate\u001b[49m\u001b[43m]\u001b[49m(state_type\u001b[38;5;241m=\u001b[39mstate)\n",
      "\u001b[0;31mTypeError\u001b[0m: 'type' object is not subscriptable"
     ]
    }
   ],
   "source": [
    "class state(TypedDict):\n",
    "    messages : Annotated[list,add_messages]\n",
    "graphbuilder = StateGraph(state)"
   ]
  }
 ],
 "metadata": {
  "kernelspec": {
   "display_name": "CHATBOT-AI-AGENT",
   "language": "python",
   "name": "python3"
  },
  "language_info": {
   "codemirror_mode": {
    "name": "ipython",
    "version": 3
   },
   "file_extension": ".py",
   "mimetype": "text/x-python",
   "name": "python",
   "nbconvert_exporter": "python",
   "pygments_lexer": "ipython3",
   "version": "3.9.6"
  }
 },
 "nbformat": 4,
 "nbformat_minor": 2
}
